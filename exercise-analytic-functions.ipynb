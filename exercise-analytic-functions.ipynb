{
 "cells": [
  {
   "cell_type": "markdown",
   "id": "40e8ca66",
   "metadata": {
    "papermill": {
     "duration": 0.005562,
     "end_time": "2023-04-20T00:50:11.731489",
     "exception": false,
     "start_time": "2023-04-20T00:50:11.725927",
     "status": "completed"
    },
    "tags": []
   },
   "source": [
    "**This notebook is an exercise in the [Advanced SQL](https://www.kaggle.com/learn/advanced-sql) course.  You can reference the tutorial at [this link](https://www.kaggle.com/alexisbcook/analytic-functions).**\n",
    "\n",
    "---\n"
   ]
  },
  {
   "cell_type": "markdown",
   "id": "f34844cf",
   "metadata": {
    "papermill": {
     "duration": 0.003908,
     "end_time": "2023-04-20T00:50:11.739855",
     "exception": false,
     "start_time": "2023-04-20T00:50:11.735947",
     "status": "completed"
    },
    "tags": []
   },
   "source": [
    "# Introduction\n",
    "\n",
    "Here, you'll use window functions to answer questions about the [Chicago Taxi Trips](https://www.kaggle.com/chicago/chicago-taxi-trips-bq) dataset.\n",
    "\n",
    "Before you get started, run the code cell below to set everything up."
   ]
  },
  {
   "cell_type": "code",
   "execution_count": 1,
   "id": "4bea5aec",
   "metadata": {
    "execution": {
     "iopub.execute_input": "2023-04-20T00:50:11.751147Z",
     "iopub.status.busy": "2023-04-20T00:50:11.750699Z",
     "iopub.status.idle": "2023-04-20T00:50:43.627726Z",
     "shell.execute_reply": "2023-04-20T00:50:43.626063Z"
    },
    "papermill": {
     "duration": 31.89097,
     "end_time": "2023-04-20T00:50:43.635440",
     "exception": false,
     "start_time": "2023-04-20T00:50:11.744470",
     "status": "completed"
    },
    "tags": []
   },
   "outputs": [
    {
     "name": "stdout",
     "output_type": "stream",
     "text": [
      "Collecting git+https://github.com/Kaggle/learntools.git\r\n",
      "  Cloning https://github.com/Kaggle/learntools.git to /tmp/pip-req-build-4dymsjx3\r\n",
      "  Running command git clone --filter=blob:none --quiet https://github.com/Kaggle/learntools.git /tmp/pip-req-build-4dymsjx3\r\n",
      "  Resolved https://github.com/Kaggle/learntools.git to commit 2f2108425302b9a9e63e5c9040e8484437ce9737\r\n",
      "  Preparing metadata (setup.py) ... \u001b[?25l-\b \bdone\r\n",
      "\u001b[?25hBuilding wheels for collected packages: learntools\r\n",
      "  Building wheel for learntools (setup.py) ... \u001b[?25l-\b \b\\\b \b|\b \bdone\r\n",
      "\u001b[?25h  Created wheel for learntools: filename=learntools-0.3.4-py3-none-any.whl size=268981 sha256=fd2dde16f57a2a8e4c953b489ff7592685bd97339f0b3866139ad467958113ae\r\n",
      "  Stored in directory: /tmp/pip-ephem-wheel-cache-h1rfgzi3/wheels/dd/d7/6b/0fc758f52767fd281d6dceded6757c6cb5bb90ccd2dbb1de9f\r\n",
      "Successfully built learntools\r\n",
      "Installing collected packages: learntools\r\n",
      "Successfully installed learntools-0.3.4\r\n",
      "\u001b[33mWARNING: Running pip as the 'root' user can result in broken permissions and conflicting behaviour with the system package manager. It is recommended to use a virtual environment instead: https://pip.pypa.io/warnings/venv\u001b[0m\u001b[33m\r\n",
      "\u001b[0mUsing Kaggle's public dataset BigQuery integration.\n"
     ]
    },
    {
     "name": "stderr",
     "output_type": "stream",
     "text": [
      "/opt/conda/lib/python3.7/site-packages/google/cloud/bigquery/client.py:440: UserWarning: Cannot create BigQuery Storage client, the dependency google-cloud-bigquery-storage is not installed.\n",
      "  \"Cannot create BigQuery Storage client, the dependency \"\n"
     ]
    },
    {
     "name": "stdout",
     "output_type": "stream",
     "text": [
      "Setup Complete\n"
     ]
    }
   ],
   "source": [
    "# Get most recent checking code\n",
    "!pip install -U -t /kaggle/working/ git+https://github.com/Kaggle/learntools.git\n",
    "# Set up feedback system\n",
    "from learntools.core import binder\n",
    "binder.bind(globals())\n",
    "from learntools.sql_advanced.ex2 import *\n",
    "print(\"Setup Complete\")"
   ]
  },
  {
   "cell_type": "markdown",
   "id": "659dcf91",
   "metadata": {
    "papermill": {
     "duration": 0.004931,
     "end_time": "2023-04-20T00:50:43.646128",
     "exception": false,
     "start_time": "2023-04-20T00:50:43.641197",
     "status": "completed"
    },
    "tags": []
   },
   "source": [
    "The following code cell fetches the `taxi_trips` table from the `chicago_taxi_trips` dataset. We also preview the first five rows of the table.  You'll use the table to answer the questions below."
   ]
  },
  {
   "cell_type": "code",
   "execution_count": 2,
   "id": "757ec57b",
   "metadata": {
    "execution": {
     "iopub.execute_input": "2023-04-20T00:50:43.660252Z",
     "iopub.status.busy": "2023-04-20T00:50:43.658948Z",
     "iopub.status.idle": "2023-04-20T00:50:44.502892Z",
     "shell.execute_reply": "2023-04-20T00:50:44.501194Z"
    },
    "papermill": {
     "duration": 0.853981,
     "end_time": "2023-04-20T00:50:44.505982",
     "exception": false,
     "start_time": "2023-04-20T00:50:43.652001",
     "status": "completed"
    },
    "tags": []
   },
   "outputs": [
    {
     "name": "stdout",
     "output_type": "stream",
     "text": [
      "Using Kaggle's public dataset BigQuery integration.\n"
     ]
    },
    {
     "name": "stderr",
     "output_type": "stream",
     "text": [
      "/opt/conda/lib/python3.7/site-packages/ipykernel_launcher.py:19: UserWarning: Cannot use bqstorage_client if max_results is set, reverting to fetching data with the tabledata.list endpoint.\n"
     ]
    },
    {
     "data": {
      "text/html": [
       "<div>\n",
       "<style scoped>\n",
       "    .dataframe tbody tr th:only-of-type {\n",
       "        vertical-align: middle;\n",
       "    }\n",
       "\n",
       "    .dataframe tbody tr th {\n",
       "        vertical-align: top;\n",
       "    }\n",
       "\n",
       "    .dataframe thead th {\n",
       "        text-align: right;\n",
       "    }\n",
       "</style>\n",
       "<table border=\"1\" class=\"dataframe\">\n",
       "  <thead>\n",
       "    <tr style=\"text-align: right;\">\n",
       "      <th></th>\n",
       "      <th>unique_key</th>\n",
       "      <th>taxi_id</th>\n",
       "      <th>trip_start_timestamp</th>\n",
       "      <th>trip_end_timestamp</th>\n",
       "      <th>trip_seconds</th>\n",
       "      <th>trip_miles</th>\n",
       "      <th>pickup_census_tract</th>\n",
       "      <th>dropoff_census_tract</th>\n",
       "      <th>pickup_community_area</th>\n",
       "      <th>dropoff_community_area</th>\n",
       "      <th>...</th>\n",
       "      <th>extras</th>\n",
       "      <th>trip_total</th>\n",
       "      <th>payment_type</th>\n",
       "      <th>company</th>\n",
       "      <th>pickup_latitude</th>\n",
       "      <th>pickup_longitude</th>\n",
       "      <th>pickup_location</th>\n",
       "      <th>dropoff_latitude</th>\n",
       "      <th>dropoff_longitude</th>\n",
       "      <th>dropoff_location</th>\n",
       "    </tr>\n",
       "  </thead>\n",
       "  <tbody>\n",
       "    <tr>\n",
       "      <th>0</th>\n",
       "      <td>693dab0bda261ca69e99b9a41ff5693b99ed6e60</td>\n",
       "      <td>4eefd6d2716e3e70208114acab05b879317f0277c8a8e6...</td>\n",
       "      <td>2018-06-25 08:00:00+00:00</td>\n",
       "      <td>2018-06-25 08:00:00+00:00</td>\n",
       "      <td>299</td>\n",
       "      <td>0.5</td>\n",
       "      <td>1.703128e+10</td>\n",
       "      <td>1.703184e+10</td>\n",
       "      <td>28</td>\n",
       "      <td>32</td>\n",
       "      <td>...</td>\n",
       "      <td>0.0</td>\n",
       "      <td>6.25</td>\n",
       "      <td>Credit Card</td>\n",
       "      <td>Yellow Cab</td>\n",
       "      <td>41.879255</td>\n",
       "      <td>-87.642649</td>\n",
       "      <td>POINT (-87.642648998 41.8792550844)</td>\n",
       "      <td>41.880994</td>\n",
       "      <td>-87.632746</td>\n",
       "      <td>POINT (-87.6327464887 41.8809944707)</td>\n",
       "    </tr>\n",
       "    <tr>\n",
       "      <th>1</th>\n",
       "      <td>c8a823094d66133d9cfbc93c4014e7063108e5fe</td>\n",
       "      <td>397fda5f3737a7b1a8ee587706ebb7e2ba198216728b26...</td>\n",
       "      <td>2018-07-12 13:00:00+00:00</td>\n",
       "      <td>2018-07-12 13:00:00+00:00</td>\n",
       "      <td>534</td>\n",
       "      <td>1.1</td>\n",
       "      <td>1.703132e+10</td>\n",
       "      <td>1.703108e+10</td>\n",
       "      <td>32</td>\n",
       "      <td>8</td>\n",
       "      <td>...</td>\n",
       "      <td>2.5</td>\n",
       "      <td>9.50</td>\n",
       "      <td>Cash</td>\n",
       "      <td>Yellow Cab</td>\n",
       "      <td>41.884987</td>\n",
       "      <td>-87.620993</td>\n",
       "      <td>POINT (-87.6209929134 41.8849871918)</td>\n",
       "      <td>41.899156</td>\n",
       "      <td>-87.626211</td>\n",
       "      <td>POINT (-87.6262105324 41.8991556134)</td>\n",
       "    </tr>\n",
       "    <tr>\n",
       "      <th>2</th>\n",
       "      <td>4e582997db30a0c6888cc1c249635c9e346d1532</td>\n",
       "      <td>57b6a83a3d58fb553e327e9f07e7de0d4f81be215174f3...</td>\n",
       "      <td>2018-07-09 11:15:00+00:00</td>\n",
       "      <td>2018-07-09 11:30:00+00:00</td>\n",
       "      <td>641</td>\n",
       "      <td>1.7</td>\n",
       "      <td>1.703128e+10</td>\n",
       "      <td>1.703108e+10</td>\n",
       "      <td>28</td>\n",
       "      <td>8</td>\n",
       "      <td>...</td>\n",
       "      <td>0.0</td>\n",
       "      <td>10.50</td>\n",
       "      <td>Credit Card</td>\n",
       "      <td>Yellow Cab</td>\n",
       "      <td>41.885300</td>\n",
       "      <td>-87.642808</td>\n",
       "      <td>POINT (-87.6428084655 41.8853000224)</td>\n",
       "      <td>41.899156</td>\n",
       "      <td>-87.626211</td>\n",
       "      <td>POINT (-87.6262105324 41.8991556134)</td>\n",
       "    </tr>\n",
       "    <tr>\n",
       "      <th>3</th>\n",
       "      <td>e987e78040efc1b8a2d748acaae430ed92683dc0</td>\n",
       "      <td>922a0223b6c4173a158b0f1fed098dd8c6e2a303f520b2...</td>\n",
       "      <td>2018-04-07 14:15:00+00:00</td>\n",
       "      <td>2018-04-07 14:15:00+00:00</td>\n",
       "      <td>760</td>\n",
       "      <td>2.4</td>\n",
       "      <td>1.703184e+10</td>\n",
       "      <td>1.703133e+10</td>\n",
       "      <td>32</td>\n",
       "      <td>33</td>\n",
       "      <td>...</td>\n",
       "      <td>2.0</td>\n",
       "      <td>12.25</td>\n",
       "      <td>Cash</td>\n",
       "      <td>Checker Taxi</td>\n",
       "      <td>41.880994</td>\n",
       "      <td>-87.632746</td>\n",
       "      <td>POINT (-87.6327464887 41.8809944707)</td>\n",
       "      <td>41.859350</td>\n",
       "      <td>-87.617358</td>\n",
       "      <td>POINT (-87.6173580061 41.859349715)</td>\n",
       "    </tr>\n",
       "    <tr>\n",
       "      <th>4</th>\n",
       "      <td>912c7a0ceb30d2a4d8370ba8144bc69a7e37becd</td>\n",
       "      <td>7f7b8460175e2fafd1ea35903c8c8482d76dd4e610e200...</td>\n",
       "      <td>2018-07-15 16:30:00+00:00</td>\n",
       "      <td>2018-07-15 16:45:00+00:00</td>\n",
       "      <td>1632</td>\n",
       "      <td>9.3</td>\n",
       "      <td>NaN</td>\n",
       "      <td>NaN</td>\n",
       "      <td>8</td>\n",
       "      <td>41</td>\n",
       "      <td>...</td>\n",
       "      <td>2.0</td>\n",
       "      <td>33.93</td>\n",
       "      <td>Credit Card</td>\n",
       "      <td>Yellow Cab</td>\n",
       "      <td>41.899602</td>\n",
       "      <td>-87.633308</td>\n",
       "      <td>POINT (-87.6333080367 41.899602111)</td>\n",
       "      <td>41.794090</td>\n",
       "      <td>-87.592311</td>\n",
       "      <td>POINT (-87.592310855 41.794090253)</td>\n",
       "    </tr>\n",
       "  </tbody>\n",
       "</table>\n",
       "<p>5 rows × 23 columns</p>\n",
       "</div>"
      ],
      "text/plain": [
       "                                 unique_key  \\\n",
       "0  693dab0bda261ca69e99b9a41ff5693b99ed6e60   \n",
       "1  c8a823094d66133d9cfbc93c4014e7063108e5fe   \n",
       "2  4e582997db30a0c6888cc1c249635c9e346d1532   \n",
       "3  e987e78040efc1b8a2d748acaae430ed92683dc0   \n",
       "4  912c7a0ceb30d2a4d8370ba8144bc69a7e37becd   \n",
       "\n",
       "                                             taxi_id  \\\n",
       "0  4eefd6d2716e3e70208114acab05b879317f0277c8a8e6...   \n",
       "1  397fda5f3737a7b1a8ee587706ebb7e2ba198216728b26...   \n",
       "2  57b6a83a3d58fb553e327e9f07e7de0d4f81be215174f3...   \n",
       "3  922a0223b6c4173a158b0f1fed098dd8c6e2a303f520b2...   \n",
       "4  7f7b8460175e2fafd1ea35903c8c8482d76dd4e610e200...   \n",
       "\n",
       "       trip_start_timestamp        trip_end_timestamp  trip_seconds  \\\n",
       "0 2018-06-25 08:00:00+00:00 2018-06-25 08:00:00+00:00           299   \n",
       "1 2018-07-12 13:00:00+00:00 2018-07-12 13:00:00+00:00           534   \n",
       "2 2018-07-09 11:15:00+00:00 2018-07-09 11:30:00+00:00           641   \n",
       "3 2018-04-07 14:15:00+00:00 2018-04-07 14:15:00+00:00           760   \n",
       "4 2018-07-15 16:30:00+00:00 2018-07-15 16:45:00+00:00          1632   \n",
       "\n",
       "   trip_miles  pickup_census_tract  dropoff_census_tract  \\\n",
       "0         0.5         1.703128e+10          1.703184e+10   \n",
       "1         1.1         1.703132e+10          1.703108e+10   \n",
       "2         1.7         1.703128e+10          1.703108e+10   \n",
       "3         2.4         1.703184e+10          1.703133e+10   \n",
       "4         9.3                  NaN                   NaN   \n",
       "\n",
       "   pickup_community_area  dropoff_community_area  ...  extras  trip_total  \\\n",
       "0                     28                      32  ...     0.0        6.25   \n",
       "1                     32                       8  ...     2.5        9.50   \n",
       "2                     28                       8  ...     0.0       10.50   \n",
       "3                     32                      33  ...     2.0       12.25   \n",
       "4                      8                      41  ...     2.0       33.93   \n",
       "\n",
       "   payment_type       company  pickup_latitude pickup_longitude  \\\n",
       "0   Credit Card    Yellow Cab        41.879255       -87.642649   \n",
       "1          Cash    Yellow Cab        41.884987       -87.620993   \n",
       "2   Credit Card    Yellow Cab        41.885300       -87.642808   \n",
       "3          Cash  Checker Taxi        41.880994       -87.632746   \n",
       "4   Credit Card    Yellow Cab        41.899602       -87.633308   \n",
       "\n",
       "                        pickup_location  dropoff_latitude  dropoff_longitude  \\\n",
       "0   POINT (-87.642648998 41.8792550844)         41.880994         -87.632746   \n",
       "1  POINT (-87.6209929134 41.8849871918)         41.899156         -87.626211   \n",
       "2  POINT (-87.6428084655 41.8853000224)         41.899156         -87.626211   \n",
       "3  POINT (-87.6327464887 41.8809944707)         41.859350         -87.617358   \n",
       "4   POINT (-87.6333080367 41.899602111)         41.794090         -87.592311   \n",
       "\n",
       "                       dropoff_location  \n",
       "0  POINT (-87.6327464887 41.8809944707)  \n",
       "1  POINT (-87.6262105324 41.8991556134)  \n",
       "2  POINT (-87.6262105324 41.8991556134)  \n",
       "3   POINT (-87.6173580061 41.859349715)  \n",
       "4    POINT (-87.592310855 41.794090253)  \n",
       "\n",
       "[5 rows x 23 columns]"
      ]
     },
     "execution_count": 2,
     "metadata": {},
     "output_type": "execute_result"
    }
   ],
   "source": [
    "from google.cloud import bigquery\n",
    "\n",
    "# Create a \"Client\" object\n",
    "client = bigquery.Client()\n",
    "\n",
    "# Construct a reference to the \"chicago_taxi_trips\" dataset\n",
    "dataset_ref = client.dataset(\"chicago_taxi_trips\", project=\"bigquery-public-data\")\n",
    "\n",
    "# API request - fetch the dataset\n",
    "dataset = client.get_dataset(dataset_ref)\n",
    "\n",
    "# Construct a reference to the \"taxi_trips\" table\n",
    "table_ref = dataset_ref.table(\"taxi_trips\")\n",
    "\n",
    "# API request - fetch the table\n",
    "table = client.get_table(table_ref)\n",
    "\n",
    "# Preview the first five lines of the table\n",
    "client.list_rows(table, max_results=5).to_dataframe()"
   ]
  },
  {
   "cell_type": "markdown",
   "id": "52063e91",
   "metadata": {
    "papermill": {
     "duration": 0.005417,
     "end_time": "2023-04-20T00:50:44.517701",
     "exception": false,
     "start_time": "2023-04-20T00:50:44.512284",
     "status": "completed"
    },
    "tags": []
   },
   "source": [
    "# Exercises\n",
    "\n",
    "### 1) How can you predict the demand for taxis?\n",
    "\n",
    "Say you work for a taxi company, and you're interested in predicting the demand for taxis.  Towards this goal, you'd like to create a plot that shows a rolling average of the daily number of taxi trips.  Amend the (partial) query below to return a DataFrame with two columns:\n",
    "- `trip_date` - contains one entry for each date from January 1, 2016, to March 31, 2016.\n",
    "- `avg_num_trips` - shows the average number of daily trips, calculated over a window including the value for the current date, along with the values for the preceding 3 days and the following 3 days, as long as the days fit within the three-month time frame.  For instance, when calculating the value in this column for January 3, 2016, the window will include the number of trips for the preceding 2 days, the current date, and the following 3 days.\n",
    "\n",
    "This query is partially completed for you, and you need only write the part that calculates the `avg_num_trips` column.  Note that this query uses a common table expression (CTE); if you need to review how to use CTEs, you're encouraged to check out [this tutorial](https://www.kaggle.com/dansbecker/as-with) in the [Intro to SQL](https://www.kaggle.com/learn/intro-to-sql) course."
   ]
  },
  {
   "cell_type": "code",
   "execution_count": 3,
   "id": "3dcc84b4",
   "metadata": {
    "execution": {
     "iopub.execute_input": "2023-04-20T00:50:44.531625Z",
     "iopub.status.busy": "2023-04-20T00:50:44.531206Z",
     "iopub.status.idle": "2023-04-20T00:50:45.379174Z",
     "shell.execute_reply": "2023-04-20T00:50:45.377535Z"
    },
    "papermill": {
     "duration": 0.858138,
     "end_time": "2023-04-20T00:50:45.381932",
     "exception": false,
     "start_time": "2023-04-20T00:50:44.523794",
     "status": "completed"
    },
    "tags": []
   },
   "outputs": [
    {
     "name": "stderr",
     "output_type": "stream",
     "text": [
      "/opt/conda/lib/python3.7/site-packages/google/cloud/bigquery/client.py:440: UserWarning: Cannot create BigQuery Storage client, the dependency google-cloud-bigquery-storage is not installed.\n",
      "  \"Cannot create BigQuery Storage client, the dependency \"\n"
     ]
    },
    {
     "data": {
      "text/html": [
       "<div>\n",
       "<style scoped>\n",
       "    .dataframe tbody tr th:only-of-type {\n",
       "        vertical-align: middle;\n",
       "    }\n",
       "\n",
       "    .dataframe tbody tr th {\n",
       "        vertical-align: top;\n",
       "    }\n",
       "\n",
       "    .dataframe thead th {\n",
       "        text-align: right;\n",
       "    }\n",
       "</style>\n",
       "<table border=\"1\" class=\"dataframe\">\n",
       "  <thead>\n",
       "    <tr style=\"text-align: right;\">\n",
       "      <th></th>\n",
       "      <th>trip_date</th>\n",
       "      <th>avg_num_trips</th>\n",
       "    </tr>\n",
       "  </thead>\n",
       "  <tbody>\n",
       "    <tr>\n",
       "      <th>0</th>\n",
       "      <td>2016-01-31</td>\n",
       "      <td>80539.000000</td>\n",
       "    </tr>\n",
       "    <tr>\n",
       "      <th>1</th>\n",
       "      <td>2016-01-10</td>\n",
       "      <td>82083.428571</td>\n",
       "    </tr>\n",
       "    <tr>\n",
       "      <th>2</th>\n",
       "      <td>2016-02-25</td>\n",
       "      <td>91758.857143</td>\n",
       "    </tr>\n",
       "    <tr>\n",
       "      <th>3</th>\n",
       "      <td>2016-02-28</td>\n",
       "      <td>92816.428571</td>\n",
       "    </tr>\n",
       "    <tr>\n",
       "      <th>4</th>\n",
       "      <td>2016-01-18</td>\n",
       "      <td>85136.000000</td>\n",
       "    </tr>\n",
       "  </tbody>\n",
       "</table>\n",
       "</div>"
      ],
      "text/plain": [
       "    trip_date  avg_num_trips\n",
       "0  2016-01-31   80539.000000\n",
       "1  2016-01-10   82083.428571\n",
       "2  2016-02-25   91758.857143\n",
       "3  2016-02-28   92816.428571\n",
       "4  2016-01-18   85136.000000"
      ]
     },
     "metadata": {},
     "output_type": "display_data"
    },
    {
     "data": {
      "application/javascript": [
       "parent.postMessage({\"jupyterEvent\": \"custom.exercise_interaction\", \"data\": {\"outcomeType\": 1, \"valueTowardsCompletion\": 0.3333333333333333, \"interactionType\": 1, \"questionType\": 2, \"questionId\": \"1_TaxiDemand\", \"learnToolsVersion\": \"0.3.4\", \"failureMessage\": \"\", \"exceptionClass\": \"\", \"trace\": \"\"}}, \"*\")"
      ],
      "text/plain": [
       "<IPython.core.display.Javascript object>"
      ]
     },
     "metadata": {},
     "output_type": "display_data"
    },
    {
     "data": {
      "text/markdown": [
       "<span style=\"color:#33cc33\">Correct</span>"
      ],
      "text/plain": [
       "Correct"
      ]
     },
     "metadata": {},
     "output_type": "display_data"
    }
   ],
   "source": [
    "# Fill in the blank below\n",
    "avg_num_trips_query = \"\"\"\n",
    "                      WITH trips_by_day AS\n",
    "                      (\n",
    "                      SELECT DATE(trip_start_timestamp) AS trip_date,\n",
    "                          COUNT(*) as num_trips\n",
    "                      FROM `bigquery-public-data.chicago_taxi_trips.taxi_trips`\n",
    "                      WHERE trip_start_timestamp > '2016-01-01' AND trip_start_timestamp < '2016-04-01'\n",
    "                      GROUP BY trip_date\n",
    "                      ORDER BY trip_date\n",
    "                      )\n",
    "                      SELECT trip_date,\n",
    "                          AVG(num_trips)\n",
    "                          OVER (\n",
    "                               ORDER BY trip_date\n",
    "                               ROWS BETWEEN 3 PRECEDING AND 3 FOLLOWING\n",
    "                               ) AS avg_num_trips\n",
    "                      FROM trips_by_day\n",
    "                      \"\"\"\n",
    "\n",
    "# Check your answer\n",
    "q_1.check()"
   ]
  },
  {
   "cell_type": "code",
   "execution_count": 4,
   "id": "79e1029e",
   "metadata": {
    "execution": {
     "iopub.execute_input": "2023-04-20T00:50:45.398008Z",
     "iopub.status.busy": "2023-04-20T00:50:45.397545Z",
     "iopub.status.idle": "2023-04-20T00:50:45.402766Z",
     "shell.execute_reply": "2023-04-20T00:50:45.401481Z"
    },
    "papermill": {
     "duration": 0.015919,
     "end_time": "2023-04-20T00:50:45.405337",
     "exception": false,
     "start_time": "2023-04-20T00:50:45.389418",
     "status": "completed"
    },
    "tags": []
   },
   "outputs": [],
   "source": [
    "# Lines below will give you a hint or solution code\n",
    "#q_1.hint()\n",
    "#q_1.solution()"
   ]
  },
  {
   "cell_type": "markdown",
   "id": "31a2846d",
   "metadata": {
    "papermill": {
     "duration": 0.005928,
     "end_time": "2023-04-20T00:50:45.418124",
     "exception": false,
     "start_time": "2023-04-20T00:50:45.412196",
     "status": "completed"
    },
    "tags": []
   },
   "source": [
    "### 2) Can you separate and order trips by community area?\n",
    "\n",
    "The query below returns a DataFrame with three columns from the table: `pickup_community_area`, `trip_start_timestamp`, and `trip_end_timestamp`.  \n",
    "\n",
    "Amend the query to return an additional column called `trip_number` which shows the order in which the trips were taken from their respective community areas.  So, the first trip of the day originating from community area 1 should receive a value of 1; the second trip of the day from the same area should receive a value of 2.  Likewise, the first trip of the day from community area 2 should receive a value of 1, and so on.\n",
    "\n",
    "Note that there are many numbering functions that can be used to solve this problem (depending on how you want to deal with trips that started at the same time from the same community area); to answer this question, please use the **RANK()** function."
   ]
  },
  {
   "cell_type": "code",
   "execution_count": 5,
   "id": "5cd6bde5",
   "metadata": {
    "execution": {
     "iopub.execute_input": "2023-04-20T00:50:45.432887Z",
     "iopub.status.busy": "2023-04-20T00:50:45.432487Z",
     "iopub.status.idle": "2023-04-20T00:50:49.259038Z",
     "shell.execute_reply": "2023-04-20T00:50:49.257221Z"
    },
    "papermill": {
     "duration": 3.837469,
     "end_time": "2023-04-20T00:50:49.261863",
     "exception": false,
     "start_time": "2023-04-20T00:50:45.424394",
     "status": "completed"
    },
    "tags": []
   },
   "outputs": [
    {
     "name": "stderr",
     "output_type": "stream",
     "text": [
      "/opt/conda/lib/python3.7/site-packages/google/cloud/bigquery/client.py:440: UserWarning: Cannot create BigQuery Storage client, the dependency google-cloud-bigquery-storage is not installed.\n",
      "  \"Cannot create BigQuery Storage client, the dependency \"\n"
     ]
    },
    {
     "data": {
      "text/html": [
       "<div>\n",
       "<style scoped>\n",
       "    .dataframe tbody tr th:only-of-type {\n",
       "        vertical-align: middle;\n",
       "    }\n",
       "\n",
       "    .dataframe tbody tr th {\n",
       "        vertical-align: top;\n",
       "    }\n",
       "\n",
       "    .dataframe thead th {\n",
       "        text-align: right;\n",
       "    }\n",
       "</style>\n",
       "<table border=\"1\" class=\"dataframe\">\n",
       "  <thead>\n",
       "    <tr style=\"text-align: right;\">\n",
       "      <th></th>\n",
       "      <th>pickup_community_area</th>\n",
       "      <th>trip_start_timestamp</th>\n",
       "      <th>trip_end_timestamp</th>\n",
       "      <th>trip_number</th>\n",
       "    </tr>\n",
       "  </thead>\n",
       "  <tbody>\n",
       "    <tr>\n",
       "      <th>0</th>\n",
       "      <td>65.0</td>\n",
       "      <td>2013-10-03 12:30:00+00:00</td>\n",
       "      <td>2013-10-03 12:30:00+00:00</td>\n",
       "      <td>1</td>\n",
       "    </tr>\n",
       "    <tr>\n",
       "      <th>1</th>\n",
       "      <td>65.0</td>\n",
       "      <td>2013-10-03 12:45:00+00:00</td>\n",
       "      <td>2013-10-03 12:45:00+00:00</td>\n",
       "      <td>2</td>\n",
       "    </tr>\n",
       "    <tr>\n",
       "      <th>2</th>\n",
       "      <td>31.0</td>\n",
       "      <td>2013-10-03 00:15:00+00:00</td>\n",
       "      <td>2013-10-03 00:15:00+00:00</td>\n",
       "      <td>1</td>\n",
       "    </tr>\n",
       "    <tr>\n",
       "      <th>3</th>\n",
       "      <td>31.0</td>\n",
       "      <td>2013-10-03 00:15:00+00:00</td>\n",
       "      <td>2013-10-03 00:15:00+00:00</td>\n",
       "      <td>1</td>\n",
       "    </tr>\n",
       "    <tr>\n",
       "      <th>4</th>\n",
       "      <td>31.0</td>\n",
       "      <td>2013-10-03 00:30:00+00:00</td>\n",
       "      <td>2013-10-03 00:45:00+00:00</td>\n",
       "      <td>3</td>\n",
       "    </tr>\n",
       "  </tbody>\n",
       "</table>\n",
       "</div>"
      ],
      "text/plain": [
       "   pickup_community_area      trip_start_timestamp        trip_end_timestamp  \\\n",
       "0                   65.0 2013-10-03 12:30:00+00:00 2013-10-03 12:30:00+00:00   \n",
       "1                   65.0 2013-10-03 12:45:00+00:00 2013-10-03 12:45:00+00:00   \n",
       "2                   31.0 2013-10-03 00:15:00+00:00 2013-10-03 00:15:00+00:00   \n",
       "3                   31.0 2013-10-03 00:15:00+00:00 2013-10-03 00:15:00+00:00   \n",
       "4                   31.0 2013-10-03 00:30:00+00:00 2013-10-03 00:45:00+00:00   \n",
       "\n",
       "   trip_number  \n",
       "0            1  \n",
       "1            2  \n",
       "2            1  \n",
       "3            1  \n",
       "4            3  "
      ]
     },
     "metadata": {},
     "output_type": "display_data"
    },
    {
     "data": {
      "application/javascript": [
       "parent.postMessage({\"jupyterEvent\": \"custom.exercise_interaction\", \"data\": {\"outcomeType\": 1, \"valueTowardsCompletion\": 0.3333333333333333, \"interactionType\": 1, \"questionType\": 2, \"questionId\": \"2_CommunityArea\", \"learnToolsVersion\": \"0.3.4\", \"failureMessage\": \"\", \"exceptionClass\": \"\", \"trace\": \"\"}}, \"*\")"
      ],
      "text/plain": [
       "<IPython.core.display.Javascript object>"
      ]
     },
     "metadata": {},
     "output_type": "display_data"
    },
    {
     "data": {
      "text/markdown": [
       "<span style=\"color:#33cc33\">Correct</span>"
      ],
      "text/plain": [
       "Correct"
      ]
     },
     "metadata": {},
     "output_type": "display_data"
    }
   ],
   "source": [
    "# Amend the query below\n",
    "trip_number_query = \"\"\"\n",
    "                    SELECT pickup_community_area,\n",
    "                        trip_start_timestamp,\n",
    "                        trip_end_timestamp,\n",
    "                        RANK()\n",
    "                            OVER (\n",
    "                                PARTITION BY pickup_community_area\n",
    "                                ORDER BY trip_start_timestamp\n",
    "                            ) AS trip_number\n",
    "                    FROM `bigquery-public-data.chicago_taxi_trips.taxi_trips`\n",
    "                    WHERE DATE(trip_start_timestamp) = '2013-10-03'\n",
    "                    \"\"\"\n",
    "\n",
    "# Check your answer\n",
    "q_2.check()"
   ]
  },
  {
   "cell_type": "code",
   "execution_count": 6,
   "id": "23ba3cfa",
   "metadata": {
    "execution": {
     "iopub.execute_input": "2023-04-20T00:50:49.278558Z",
     "iopub.status.busy": "2023-04-20T00:50:49.277219Z",
     "iopub.status.idle": "2023-04-20T00:50:49.287130Z",
     "shell.execute_reply": "2023-04-20T00:50:49.286205Z"
    },
    "papermill": {
     "duration": 0.020579,
     "end_time": "2023-04-20T00:50:49.289488",
     "exception": false,
     "start_time": "2023-04-20T00:50:49.268909",
     "status": "completed"
    },
    "tags": []
   },
   "outputs": [
    {
     "data": {
      "application/javascript": [
       "parent.postMessage({\"jupyterEvent\": \"custom.exercise_interaction\", \"data\": {\"interactionType\": 2, \"questionType\": 2, \"questionId\": \"2_CommunityArea\", \"learnToolsVersion\": \"0.3.4\", \"valueTowardsCompletion\": 0.0, \"failureMessage\": \"\", \"exceptionClass\": \"\", \"trace\": \"\", \"outcomeType\": 4}}, \"*\")"
      ],
      "text/plain": [
       "<IPython.core.display.Javascript object>"
      ]
     },
     "metadata": {},
     "output_type": "display_data"
    },
    {
     "data": {
      "text/markdown": [
       "<span style=\"color:#3366cc\">Hint:</span> You don't need a **GROUP BY** clause.  Use the **RANK()** function.  Your **OVER** clause should order the rows by the `trip_start_timestamp` column and break the data into partitions based on `pickup_community_area`."
      ],
      "text/plain": [
       "Hint: You don't need a **GROUP BY** clause.  Use the **RANK()** function.  Your **OVER** clause should order the rows by the `trip_start_timestamp` column and break the data into partitions based on `pickup_community_area`."
      ]
     },
     "metadata": {},
     "output_type": "display_data"
    }
   ],
   "source": [
    "# Lines below will give you a hint or solution code\n",
    "q_2.hint()\n",
    "#q_2.solution()"
   ]
  },
  {
   "cell_type": "markdown",
   "id": "87acc8c5",
   "metadata": {
    "papermill": {
     "duration": 0.006536,
     "end_time": "2023-04-20T00:50:49.302875",
     "exception": false,
     "start_time": "2023-04-20T00:50:49.296339",
     "status": "completed"
    },
    "tags": []
   },
   "source": [
    "### 3) How much time elapses between trips?\n",
    "\n",
    "The (partial) query in the code cell below shows, for each trip in the selected time frame, the corresponding `taxi_id`, `trip_start_timestamp`, and `trip_end_timestamp`. \n",
    "\n",
    "Your task in this exercise is to edit the query to include an additional `prev_break` column that shows the length of the break (in minutes) that the driver had before each trip started (this corresponds to the time between `trip_start_timestamp` of the current trip and `trip_end_timestamp` of the previous trip).  Partition the calculation by `taxi_id`, and order the results within each partition by `trip_start_timestamp`.\n",
    "\n",
    "Some sample results are shown below, where all rows correspond to the same driver (or `taxi_id`).  Take the time now to make sure that the values in the `prev_break` column make sense to you!\n",
    "\n",
    "![first_commands](https://i.imgur.com/zzHgmlx.png)\n",
    "\n",
    "Note that the first trip of the day for each driver should have a value of **NaN** (not a number) in the `prev_break` column."
   ]
  },
  {
   "cell_type": "code",
   "execution_count": 7,
   "id": "d9863d76",
   "metadata": {
    "execution": {
     "iopub.execute_input": "2023-04-20T00:50:49.318771Z",
     "iopub.status.busy": "2023-04-20T00:50:49.318095Z",
     "iopub.status.idle": "2023-04-20T00:50:57.248593Z",
     "shell.execute_reply": "2023-04-20T00:50:57.247485Z"
    },
    "papermill": {
     "duration": 7.941638,
     "end_time": "2023-04-20T00:50:57.251244",
     "exception": false,
     "start_time": "2023-04-20T00:50:49.309606",
     "status": "completed"
    },
    "tags": []
   },
   "outputs": [
    {
     "name": "stderr",
     "output_type": "stream",
     "text": [
      "/opt/conda/lib/python3.7/site-packages/google/cloud/bigquery/client.py:440: UserWarning: Cannot create BigQuery Storage client, the dependency google-cloud-bigquery-storage is not installed.\n",
      "  \"Cannot create BigQuery Storage client, the dependency \"\n"
     ]
    },
    {
     "data": {
      "text/html": [
       "<div>\n",
       "<style scoped>\n",
       "    .dataframe tbody tr th:only-of-type {\n",
       "        vertical-align: middle;\n",
       "    }\n",
       "\n",
       "    .dataframe tbody tr th {\n",
       "        vertical-align: top;\n",
       "    }\n",
       "\n",
       "    .dataframe thead th {\n",
       "        text-align: right;\n",
       "    }\n",
       "</style>\n",
       "<table border=\"1\" class=\"dataframe\">\n",
       "  <thead>\n",
       "    <tr style=\"text-align: right;\">\n",
       "      <th></th>\n",
       "      <th>taxi_id</th>\n",
       "      <th>trip_start_timestamp</th>\n",
       "      <th>trip_end_timestamp</th>\n",
       "      <th>prev_break</th>\n",
       "    </tr>\n",
       "  </thead>\n",
       "  <tbody>\n",
       "    <tr>\n",
       "      <th>0</th>\n",
       "      <td>0b3f27cc5c9f21c955c57b94cce185cb77a9d7150e813f...</td>\n",
       "      <td>2013-10-03 14:30:00+00:00</td>\n",
       "      <td>2013-10-03 15:15:00+00:00</td>\n",
       "      <td>225.0</td>\n",
       "    </tr>\n",
       "    <tr>\n",
       "      <th>1</th>\n",
       "      <td>0f63a0d575cceae9be5ebef2173e1aa6370f3c3a97a4fa...</td>\n",
       "      <td>2013-10-03 10:45:00+00:00</td>\n",
       "      <td>2013-10-03 10:45:00+00:00</td>\n",
       "      <td>540.0</td>\n",
       "    </tr>\n",
       "    <tr>\n",
       "      <th>2</th>\n",
       "      <td>1e3120e8b2c9af9f006e47d546cc8cee6564dd40b15abe...</td>\n",
       "      <td>2013-10-03 16:30:00+00:00</td>\n",
       "      <td>2013-10-03 17:00:00+00:00</td>\n",
       "      <td>420.0</td>\n",
       "    </tr>\n",
       "    <tr>\n",
       "      <th>3</th>\n",
       "      <td>1e4ba7f6a2c79ac2220073aa7006dd757feed6b12d4a40...</td>\n",
       "      <td>2013-10-03 22:30:00+00:00</td>\n",
       "      <td>2013-10-03 22:30:00+00:00</td>\n",
       "      <td>405.0</td>\n",
       "    </tr>\n",
       "    <tr>\n",
       "      <th>4</th>\n",
       "      <td>30807f0937a3539b22a59ce80c71912ac9c6a27c483199...</td>\n",
       "      <td>2013-10-03 11:15:00+00:00</td>\n",
       "      <td>2013-10-03 11:30:00+00:00</td>\n",
       "      <td>495.0</td>\n",
       "    </tr>\n",
       "  </tbody>\n",
       "</table>\n",
       "</div>"
      ],
      "text/plain": [
       "                                             taxi_id  \\\n",
       "0  0b3f27cc5c9f21c955c57b94cce185cb77a9d7150e813f...   \n",
       "1  0f63a0d575cceae9be5ebef2173e1aa6370f3c3a97a4fa...   \n",
       "2  1e3120e8b2c9af9f006e47d546cc8cee6564dd40b15abe...   \n",
       "3  1e4ba7f6a2c79ac2220073aa7006dd757feed6b12d4a40...   \n",
       "4  30807f0937a3539b22a59ce80c71912ac9c6a27c483199...   \n",
       "\n",
       "       trip_start_timestamp        trip_end_timestamp  prev_break  \n",
       "0 2013-10-03 14:30:00+00:00 2013-10-03 15:15:00+00:00       225.0  \n",
       "1 2013-10-03 10:45:00+00:00 2013-10-03 10:45:00+00:00       540.0  \n",
       "2 2013-10-03 16:30:00+00:00 2013-10-03 17:00:00+00:00       420.0  \n",
       "3 2013-10-03 22:30:00+00:00 2013-10-03 22:30:00+00:00       405.0  \n",
       "4 2013-10-03 11:15:00+00:00 2013-10-03 11:30:00+00:00       495.0  "
      ]
     },
     "metadata": {},
     "output_type": "display_data"
    },
    {
     "data": {
      "application/javascript": [
       "parent.postMessage({\"jupyterEvent\": \"custom.exercise_interaction\", \"data\": {\"outcomeType\": 1, \"valueTowardsCompletion\": 0.3333333333333333, \"interactionType\": 1, \"questionType\": 2, \"questionId\": \"3_BreakTime\", \"learnToolsVersion\": \"0.3.4\", \"failureMessage\": \"\", \"exceptionClass\": \"\", \"trace\": \"\"}}, \"*\")"
      ],
      "text/plain": [
       "<IPython.core.display.Javascript object>"
      ]
     },
     "metadata": {},
     "output_type": "display_data"
    },
    {
     "data": {
      "text/markdown": [
       "<span style=\"color:#33cc33\">Correct</span>"
      ],
      "text/plain": [
       "Correct"
      ]
     },
     "metadata": {},
     "output_type": "display_data"
    }
   ],
   "source": [
    "# Fill in the blanks below\n",
    "break_time_query = \"\"\"\n",
    "                   SELECT taxi_id,\n",
    "                       trip_start_timestamp,\n",
    "                       trip_end_timestamp,\n",
    "                       TIMESTAMP_DIFF(\n",
    "                           trip_start_timestamp, \n",
    "                           LAG(trip_end_timestamp,1) \n",
    "                               OVER (\n",
    "                                    PARTITION BY taxi_id \n",
    "                                    ORDER BY trip_start_timestamp), \n",
    "                           MINUTE) as prev_break\n",
    "                   FROM `bigquery-public-data.chicago_taxi_trips.taxi_trips`\n",
    "                   WHERE DATE(trip_start_timestamp) = '2013-10-03' \n",
    "                   \"\"\"\n",
    "\n",
    "# Check your answer\n",
    "q_3.check()"
   ]
  },
  {
   "cell_type": "code",
   "execution_count": 8,
   "id": "064be045",
   "metadata": {
    "execution": {
     "iopub.execute_input": "2023-04-20T00:50:57.268373Z",
     "iopub.status.busy": "2023-04-20T00:50:57.267515Z",
     "iopub.status.idle": "2023-04-20T00:50:57.272723Z",
     "shell.execute_reply": "2023-04-20T00:50:57.271473Z"
    },
    "papermill": {
     "duration": 0.016227,
     "end_time": "2023-04-20T00:50:57.274998",
     "exception": false,
     "start_time": "2023-04-20T00:50:57.258771",
     "status": "completed"
    },
    "tags": []
   },
   "outputs": [],
   "source": [
    "# Lines below will give you a hint or solution code\n",
    "#q_3.hint()\n",
    "#q_3.solution()"
   ]
  },
  {
   "cell_type": "markdown",
   "id": "e37f8742",
   "metadata": {
    "papermill": {
     "duration": 0.00716,
     "end_time": "2023-04-20T00:50:57.289834",
     "exception": false,
     "start_time": "2023-04-20T00:50:57.282674",
     "status": "completed"
    },
    "tags": []
   },
   "source": [
    "# Keep going\n",
    "\n",
    "Move on to learn how to query **[nested and repeated data](https://www.kaggle.com/alexisbcook/nested-and-repeated-data)**."
   ]
  },
  {
   "cell_type": "markdown",
   "id": "810e936e",
   "metadata": {
    "papermill": {
     "duration": 0.007047,
     "end_time": "2023-04-20T00:50:57.304291",
     "exception": false,
     "start_time": "2023-04-20T00:50:57.297244",
     "status": "completed"
    },
    "tags": []
   },
   "source": [
    "---\n",
    "\n",
    "\n",
    "\n",
    "\n",
    "*Have questions or comments? Visit the [course discussion forum](https://www.kaggle.com/learn/advanced-sql/discussion) to chat with other learners.*"
   ]
  }
 ],
 "metadata": {
  "kernelspec": {
   "display_name": "Python 3",
   "language": "python",
   "name": "python3"
  },
  "language_info": {
   "codemirror_mode": {
    "name": "ipython",
    "version": 3
   },
   "file_extension": ".py",
   "mimetype": "text/x-python",
   "name": "python",
   "nbconvert_exporter": "python",
   "pygments_lexer": "ipython3",
   "version": "3.7.12"
  },
  "papermill": {
   "default_parameters": {},
   "duration": 59.544777,
   "end_time": "2023-04-20T00:50:58.035594",
   "environment_variables": {},
   "exception": null,
   "input_path": "__notebook__.ipynb",
   "output_path": "__notebook__.ipynb",
   "parameters": {},
   "start_time": "2023-04-20T00:49:58.490817",
   "version": "2.4.0"
  }
 },
 "nbformat": 4,
 "nbformat_minor": 5
}
