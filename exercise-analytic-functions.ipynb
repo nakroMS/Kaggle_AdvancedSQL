{
 "cells": [
  {
   "cell_type": "markdown",
   "id": "2ca51d00",
   "metadata": {
    "papermill": {
     "duration": 0.005034,
     "end_time": "2023-04-20T00:24:37.146027",
     "exception": false,
     "start_time": "2023-04-20T00:24:37.140993",
     "status": "completed"
    },
    "tags": []
   },
   "source": [
    "**This notebook is an exercise in the [Advanced SQL](https://www.kaggle.com/learn/advanced-sql) course.  You can reference the tutorial at [this link](https://www.kaggle.com/alexisbcook/analytic-functions).**\n",
    "\n",
    "---\n"
   ]
  },
  {
   "cell_type": "markdown",
   "id": "b3b7d6db",
   "metadata": {
    "papermill": {
     "duration": 0.003674,
     "end_time": "2023-04-20T00:24:37.153856",
     "exception": false,
     "start_time": "2023-04-20T00:24:37.150182",
     "status": "completed"
    },
    "tags": []
   },
   "source": [
    "# Introduction\n",
    "\n",
    "Here, you'll use window functions to answer questions about the [Chicago Taxi Trips](https://www.kaggle.com/chicago/chicago-taxi-trips-bq) dataset.\n",
    "\n",
    "Before you get started, run the code cell below to set everything up."
   ]
  },
  {
   "cell_type": "code",
   "execution_count": 1,
   "id": "fe937edf",
   "metadata": {
    "execution": {
     "iopub.execute_input": "2023-04-20T00:24:37.164685Z",
     "iopub.status.busy": "2023-04-20T00:24:37.164175Z",
     "iopub.status.idle": "2023-04-20T00:25:16.283274Z",
     "shell.execute_reply": "2023-04-20T00:25:16.281823Z"
    },
    "papermill": {
     "duration": 39.132496,
     "end_time": "2023-04-20T00:25:16.290285",
     "exception": false,
     "start_time": "2023-04-20T00:24:37.157789",
     "status": "completed"
    },
    "tags": []
   },
   "outputs": [
    {
     "name": "stdout",
     "output_type": "stream",
     "text": [
      "Collecting git+https://github.com/Kaggle/learntools.git\r\n",
      "  Cloning https://github.com/Kaggle/learntools.git to /tmp/pip-req-build-349a_zcn\r\n",
      "  Running command git clone --filter=blob:none --quiet https://github.com/Kaggle/learntools.git /tmp/pip-req-build-349a_zcn\r\n",
      "  Resolved https://github.com/Kaggle/learntools.git to commit 2f2108425302b9a9e63e5c9040e8484437ce9737\r\n",
      "  Preparing metadata (setup.py) ... \u001b[?25l-\b \bdone\r\n",
      "\u001b[?25hBuilding wheels for collected packages: learntools\r\n",
      "  Building wheel for learntools (setup.py) ... \u001b[?25l-\b \b\\\b \b|\b \bdone\r\n",
      "\u001b[?25h  Created wheel for learntools: filename=learntools-0.3.4-py3-none-any.whl size=268981 sha256=b3d7a35a6b5362020dd70d53f6b87b6b257094c984b54ba81e505d59a02db501\r\n",
      "  Stored in directory: /tmp/pip-ephem-wheel-cache-pdx9bwkk/wheels/dd/d7/6b/0fc758f52767fd281d6dceded6757c6cb5bb90ccd2dbb1de9f\r\n",
      "Successfully built learntools\r\n",
      "Installing collected packages: learntools\r\n",
      "Successfully installed learntools-0.3.4\r\n",
      "\u001b[33mWARNING: Running pip as the 'root' user can result in broken permissions and conflicting behaviour with the system package manager. It is recommended to use a virtual environment instead: https://pip.pypa.io/warnings/venv\u001b[0m\u001b[33m\r\n",
      "\u001b[0mUsing Kaggle's public dataset BigQuery integration.\n"
     ]
    },
    {
     "name": "stderr",
     "output_type": "stream",
     "text": [
      "/opt/conda/lib/python3.7/site-packages/google/cloud/bigquery/client.py:440: UserWarning: Cannot create BigQuery Storage client, the dependency google-cloud-bigquery-storage is not installed.\n",
      "  \"Cannot create BigQuery Storage client, the dependency \"\n"
     ]
    },
    {
     "name": "stdout",
     "output_type": "stream",
     "text": [
      "Setup Complete\n"
     ]
    }
   ],
   "source": [
    "# Get most recent checking code\n",
    "!pip install -U -t /kaggle/working/ git+https://github.com/Kaggle/learntools.git\n",
    "# Set up feedback system\n",
    "from learntools.core import binder\n",
    "binder.bind(globals())\n",
    "from learntools.sql_advanced.ex2 import *\n",
    "print(\"Setup Complete\")"
   ]
  },
  {
   "cell_type": "markdown",
   "id": "3b4cf4ec",
   "metadata": {
    "papermill": {
     "duration": 0.004476,
     "end_time": "2023-04-20T00:25:16.299946",
     "exception": false,
     "start_time": "2023-04-20T00:25:16.295470",
     "status": "completed"
    },
    "tags": []
   },
   "source": [
    "The following code cell fetches the `taxi_trips` table from the `chicago_taxi_trips` dataset. We also preview the first five rows of the table.  You'll use the table to answer the questions below."
   ]
  },
  {
   "cell_type": "code",
   "execution_count": 2,
   "id": "6abf1c83",
   "metadata": {
    "execution": {
     "iopub.execute_input": "2023-04-20T00:25:16.311391Z",
     "iopub.status.busy": "2023-04-20T00:25:16.310492Z",
     "iopub.status.idle": "2023-04-20T00:25:17.898084Z",
     "shell.execute_reply": "2023-04-20T00:25:17.896695Z"
    },
    "papermill": {
     "duration": 1.596323,
     "end_time": "2023-04-20T00:25:17.900833",
     "exception": false,
     "start_time": "2023-04-20T00:25:16.304510",
     "status": "completed"
    },
    "tags": []
   },
   "outputs": [
    {
     "name": "stdout",
     "output_type": "stream",
     "text": [
      "Using Kaggle's public dataset BigQuery integration.\n"
     ]
    },
    {
     "name": "stderr",
     "output_type": "stream",
     "text": [
      "/opt/conda/lib/python3.7/site-packages/ipykernel_launcher.py:19: UserWarning: Cannot use bqstorage_client if max_results is set, reverting to fetching data with the tabledata.list endpoint.\n"
     ]
    },
    {
     "data": {
      "text/html": [
       "<div>\n",
       "<style scoped>\n",
       "    .dataframe tbody tr th:only-of-type {\n",
       "        vertical-align: middle;\n",
       "    }\n",
       "\n",
       "    .dataframe tbody tr th {\n",
       "        vertical-align: top;\n",
       "    }\n",
       "\n",
       "    .dataframe thead th {\n",
       "        text-align: right;\n",
       "    }\n",
       "</style>\n",
       "<table border=\"1\" class=\"dataframe\">\n",
       "  <thead>\n",
       "    <tr style=\"text-align: right;\">\n",
       "      <th></th>\n",
       "      <th>unique_key</th>\n",
       "      <th>taxi_id</th>\n",
       "      <th>trip_start_timestamp</th>\n",
       "      <th>trip_end_timestamp</th>\n",
       "      <th>trip_seconds</th>\n",
       "      <th>trip_miles</th>\n",
       "      <th>pickup_census_tract</th>\n",
       "      <th>dropoff_census_tract</th>\n",
       "      <th>pickup_community_area</th>\n",
       "      <th>dropoff_community_area</th>\n",
       "      <th>...</th>\n",
       "      <th>extras</th>\n",
       "      <th>trip_total</th>\n",
       "      <th>payment_type</th>\n",
       "      <th>company</th>\n",
       "      <th>pickup_latitude</th>\n",
       "      <th>pickup_longitude</th>\n",
       "      <th>pickup_location</th>\n",
       "      <th>dropoff_latitude</th>\n",
       "      <th>dropoff_longitude</th>\n",
       "      <th>dropoff_location</th>\n",
       "    </tr>\n",
       "  </thead>\n",
       "  <tbody>\n",
       "    <tr>\n",
       "      <th>0</th>\n",
       "      <td>693dab0bda261ca69e99b9a41ff5693b99ed6e60</td>\n",
       "      <td>4eefd6d2716e3e70208114acab05b879317f0277c8a8e6...</td>\n",
       "      <td>2018-06-25 08:00:00+00:00</td>\n",
       "      <td>2018-06-25 08:00:00+00:00</td>\n",
       "      <td>299</td>\n",
       "      <td>0.5</td>\n",
       "      <td>1.703128e+10</td>\n",
       "      <td>1.703184e+10</td>\n",
       "      <td>28</td>\n",
       "      <td>32</td>\n",
       "      <td>...</td>\n",
       "      <td>0.0</td>\n",
       "      <td>6.25</td>\n",
       "      <td>Credit Card</td>\n",
       "      <td>Yellow Cab</td>\n",
       "      <td>41.879255</td>\n",
       "      <td>-87.642649</td>\n",
       "      <td>POINT (-87.642648998 41.8792550844)</td>\n",
       "      <td>41.880994</td>\n",
       "      <td>-87.632746</td>\n",
       "      <td>POINT (-87.6327464887 41.8809944707)</td>\n",
       "    </tr>\n",
       "    <tr>\n",
       "      <th>1</th>\n",
       "      <td>c8a823094d66133d9cfbc93c4014e7063108e5fe</td>\n",
       "      <td>397fda5f3737a7b1a8ee587706ebb7e2ba198216728b26...</td>\n",
       "      <td>2018-07-12 13:00:00+00:00</td>\n",
       "      <td>2018-07-12 13:00:00+00:00</td>\n",
       "      <td>534</td>\n",
       "      <td>1.1</td>\n",
       "      <td>1.703132e+10</td>\n",
       "      <td>1.703108e+10</td>\n",
       "      <td>32</td>\n",
       "      <td>8</td>\n",
       "      <td>...</td>\n",
       "      <td>2.5</td>\n",
       "      <td>9.50</td>\n",
       "      <td>Cash</td>\n",
       "      <td>Yellow Cab</td>\n",
       "      <td>41.884987</td>\n",
       "      <td>-87.620993</td>\n",
       "      <td>POINT (-87.6209929134 41.8849871918)</td>\n",
       "      <td>41.899156</td>\n",
       "      <td>-87.626211</td>\n",
       "      <td>POINT (-87.6262105324 41.8991556134)</td>\n",
       "    </tr>\n",
       "    <tr>\n",
       "      <th>2</th>\n",
       "      <td>4e582997db30a0c6888cc1c249635c9e346d1532</td>\n",
       "      <td>57b6a83a3d58fb553e327e9f07e7de0d4f81be215174f3...</td>\n",
       "      <td>2018-07-09 11:15:00+00:00</td>\n",
       "      <td>2018-07-09 11:30:00+00:00</td>\n",
       "      <td>641</td>\n",
       "      <td>1.7</td>\n",
       "      <td>1.703128e+10</td>\n",
       "      <td>1.703108e+10</td>\n",
       "      <td>28</td>\n",
       "      <td>8</td>\n",
       "      <td>...</td>\n",
       "      <td>0.0</td>\n",
       "      <td>10.50</td>\n",
       "      <td>Credit Card</td>\n",
       "      <td>Yellow Cab</td>\n",
       "      <td>41.885300</td>\n",
       "      <td>-87.642808</td>\n",
       "      <td>POINT (-87.6428084655 41.8853000224)</td>\n",
       "      <td>41.899156</td>\n",
       "      <td>-87.626211</td>\n",
       "      <td>POINT (-87.6262105324 41.8991556134)</td>\n",
       "    </tr>\n",
       "    <tr>\n",
       "      <th>3</th>\n",
       "      <td>e987e78040efc1b8a2d748acaae430ed92683dc0</td>\n",
       "      <td>922a0223b6c4173a158b0f1fed098dd8c6e2a303f520b2...</td>\n",
       "      <td>2018-04-07 14:15:00+00:00</td>\n",
       "      <td>2018-04-07 14:15:00+00:00</td>\n",
       "      <td>760</td>\n",
       "      <td>2.4</td>\n",
       "      <td>1.703184e+10</td>\n",
       "      <td>1.703133e+10</td>\n",
       "      <td>32</td>\n",
       "      <td>33</td>\n",
       "      <td>...</td>\n",
       "      <td>2.0</td>\n",
       "      <td>12.25</td>\n",
       "      <td>Cash</td>\n",
       "      <td>Checker Taxi</td>\n",
       "      <td>41.880994</td>\n",
       "      <td>-87.632746</td>\n",
       "      <td>POINT (-87.6327464887 41.8809944707)</td>\n",
       "      <td>41.859350</td>\n",
       "      <td>-87.617358</td>\n",
       "      <td>POINT (-87.6173580061 41.859349715)</td>\n",
       "    </tr>\n",
       "    <tr>\n",
       "      <th>4</th>\n",
       "      <td>912c7a0ceb30d2a4d8370ba8144bc69a7e37becd</td>\n",
       "      <td>7f7b8460175e2fafd1ea35903c8c8482d76dd4e610e200...</td>\n",
       "      <td>2018-07-15 16:30:00+00:00</td>\n",
       "      <td>2018-07-15 16:45:00+00:00</td>\n",
       "      <td>1632</td>\n",
       "      <td>9.3</td>\n",
       "      <td>NaN</td>\n",
       "      <td>NaN</td>\n",
       "      <td>8</td>\n",
       "      <td>41</td>\n",
       "      <td>...</td>\n",
       "      <td>2.0</td>\n",
       "      <td>33.93</td>\n",
       "      <td>Credit Card</td>\n",
       "      <td>Yellow Cab</td>\n",
       "      <td>41.899602</td>\n",
       "      <td>-87.633308</td>\n",
       "      <td>POINT (-87.6333080367 41.899602111)</td>\n",
       "      <td>41.794090</td>\n",
       "      <td>-87.592311</td>\n",
       "      <td>POINT (-87.592310855 41.794090253)</td>\n",
       "    </tr>\n",
       "  </tbody>\n",
       "</table>\n",
       "<p>5 rows × 23 columns</p>\n",
       "</div>"
      ],
      "text/plain": [
       "                                 unique_key  \\\n",
       "0  693dab0bda261ca69e99b9a41ff5693b99ed6e60   \n",
       "1  c8a823094d66133d9cfbc93c4014e7063108e5fe   \n",
       "2  4e582997db30a0c6888cc1c249635c9e346d1532   \n",
       "3  e987e78040efc1b8a2d748acaae430ed92683dc0   \n",
       "4  912c7a0ceb30d2a4d8370ba8144bc69a7e37becd   \n",
       "\n",
       "                                             taxi_id  \\\n",
       "0  4eefd6d2716e3e70208114acab05b879317f0277c8a8e6...   \n",
       "1  397fda5f3737a7b1a8ee587706ebb7e2ba198216728b26...   \n",
       "2  57b6a83a3d58fb553e327e9f07e7de0d4f81be215174f3...   \n",
       "3  922a0223b6c4173a158b0f1fed098dd8c6e2a303f520b2...   \n",
       "4  7f7b8460175e2fafd1ea35903c8c8482d76dd4e610e200...   \n",
       "\n",
       "       trip_start_timestamp        trip_end_timestamp  trip_seconds  \\\n",
       "0 2018-06-25 08:00:00+00:00 2018-06-25 08:00:00+00:00           299   \n",
       "1 2018-07-12 13:00:00+00:00 2018-07-12 13:00:00+00:00           534   \n",
       "2 2018-07-09 11:15:00+00:00 2018-07-09 11:30:00+00:00           641   \n",
       "3 2018-04-07 14:15:00+00:00 2018-04-07 14:15:00+00:00           760   \n",
       "4 2018-07-15 16:30:00+00:00 2018-07-15 16:45:00+00:00          1632   \n",
       "\n",
       "   trip_miles  pickup_census_tract  dropoff_census_tract  \\\n",
       "0         0.5         1.703128e+10          1.703184e+10   \n",
       "1         1.1         1.703132e+10          1.703108e+10   \n",
       "2         1.7         1.703128e+10          1.703108e+10   \n",
       "3         2.4         1.703184e+10          1.703133e+10   \n",
       "4         9.3                  NaN                   NaN   \n",
       "\n",
       "   pickup_community_area  dropoff_community_area  ...  extras  trip_total  \\\n",
       "0                     28                      32  ...     0.0        6.25   \n",
       "1                     32                       8  ...     2.5        9.50   \n",
       "2                     28                       8  ...     0.0       10.50   \n",
       "3                     32                      33  ...     2.0       12.25   \n",
       "4                      8                      41  ...     2.0       33.93   \n",
       "\n",
       "   payment_type       company  pickup_latitude pickup_longitude  \\\n",
       "0   Credit Card    Yellow Cab        41.879255       -87.642649   \n",
       "1          Cash    Yellow Cab        41.884987       -87.620993   \n",
       "2   Credit Card    Yellow Cab        41.885300       -87.642808   \n",
       "3          Cash  Checker Taxi        41.880994       -87.632746   \n",
       "4   Credit Card    Yellow Cab        41.899602       -87.633308   \n",
       "\n",
       "                        pickup_location  dropoff_latitude  dropoff_longitude  \\\n",
       "0   POINT (-87.642648998 41.8792550844)         41.880994         -87.632746   \n",
       "1  POINT (-87.6209929134 41.8849871918)         41.899156         -87.626211   \n",
       "2  POINT (-87.6428084655 41.8853000224)         41.899156         -87.626211   \n",
       "3  POINT (-87.6327464887 41.8809944707)         41.859350         -87.617358   \n",
       "4   POINT (-87.6333080367 41.899602111)         41.794090         -87.592311   \n",
       "\n",
       "                       dropoff_location  \n",
       "0  POINT (-87.6327464887 41.8809944707)  \n",
       "1  POINT (-87.6262105324 41.8991556134)  \n",
       "2  POINT (-87.6262105324 41.8991556134)  \n",
       "3   POINT (-87.6173580061 41.859349715)  \n",
       "4    POINT (-87.592310855 41.794090253)  \n",
       "\n",
       "[5 rows x 23 columns]"
      ]
     },
     "execution_count": 2,
     "metadata": {},
     "output_type": "execute_result"
    }
   ],
   "source": [
    "from google.cloud import bigquery\n",
    "\n",
    "# Create a \"Client\" object\n",
    "client = bigquery.Client()\n",
    "\n",
    "# Construct a reference to the \"chicago_taxi_trips\" dataset\n",
    "dataset_ref = client.dataset(\"chicago_taxi_trips\", project=\"bigquery-public-data\")\n",
    "\n",
    "# API request - fetch the dataset\n",
    "dataset = client.get_dataset(dataset_ref)\n",
    "\n",
    "# Construct a reference to the \"taxi_trips\" table\n",
    "table_ref = dataset_ref.table(\"taxi_trips\")\n",
    "\n",
    "# API request - fetch the table\n",
    "table = client.get_table(table_ref)\n",
    "\n",
    "# Preview the first five lines of the table\n",
    "client.list_rows(table, max_results=5).to_dataframe()"
   ]
  },
  {
   "cell_type": "markdown",
   "id": "175cdc41",
   "metadata": {
    "papermill": {
     "duration": 0.005228,
     "end_time": "2023-04-20T00:25:17.911573",
     "exception": false,
     "start_time": "2023-04-20T00:25:17.906345",
     "status": "completed"
    },
    "tags": []
   },
   "source": [
    "# Exercises\n",
    "\n",
    "### 1) How can you predict the demand for taxis?\n",
    "\n",
    "Say you work for a taxi company, and you're interested in predicting the demand for taxis.  Towards this goal, you'd like to create a plot that shows a rolling average of the daily number of taxi trips.  Amend the (partial) query below to return a DataFrame with two columns:\n",
    "- `trip_date` - contains one entry for each date from January 1, 2016, to March 31, 2016.\n",
    "- `avg_num_trips` - shows the average number of daily trips, calculated over a window including the value for the current date, along with the values for the preceding 3 days and the following 3 days, as long as the days fit within the three-month time frame.  For instance, when calculating the value in this column for January 3, 2016, the window will include the number of trips for the preceding 2 days, the current date, and the following 3 days.\n",
    "\n",
    "This query is partially completed for you, and you need only write the part that calculates the `avg_num_trips` column.  Note that this query uses a common table expression (CTE); if you need to review how to use CTEs, you're encouraged to check out [this tutorial](https://www.kaggle.com/dansbecker/as-with) in the [Intro to SQL](https://www.kaggle.com/learn/intro-to-sql) course."
   ]
  },
  {
   "cell_type": "code",
   "execution_count": 3,
   "id": "40a48ff1",
   "metadata": {
    "execution": {
     "iopub.execute_input": "2023-04-20T00:25:17.924277Z",
     "iopub.status.busy": "2023-04-20T00:25:17.923888Z",
     "iopub.status.idle": "2023-04-20T00:25:19.467732Z",
     "shell.execute_reply": "2023-04-20T00:25:19.466208Z"
    },
    "papermill": {
     "duration": 1.553341,
     "end_time": "2023-04-20T00:25:19.470295",
     "exception": false,
     "start_time": "2023-04-20T00:25:17.916954",
     "status": "completed"
    },
    "tags": []
   },
   "outputs": [
    {
     "name": "stderr",
     "output_type": "stream",
     "text": [
      "/opt/conda/lib/python3.7/site-packages/google/cloud/bigquery/client.py:440: UserWarning: Cannot create BigQuery Storage client, the dependency google-cloud-bigquery-storage is not installed.\n",
      "  \"Cannot create BigQuery Storage client, the dependency \"\n"
     ]
    },
    {
     "data": {
      "text/html": [
       "<div>\n",
       "<style scoped>\n",
       "    .dataframe tbody tr th:only-of-type {\n",
       "        vertical-align: middle;\n",
       "    }\n",
       "\n",
       "    .dataframe tbody tr th {\n",
       "        vertical-align: top;\n",
       "    }\n",
       "\n",
       "    .dataframe thead th {\n",
       "        text-align: right;\n",
       "    }\n",
       "</style>\n",
       "<table border=\"1\" class=\"dataframe\">\n",
       "  <thead>\n",
       "    <tr style=\"text-align: right;\">\n",
       "      <th></th>\n",
       "      <th>trip_date</th>\n",
       "      <th>avg_num_trips</th>\n",
       "    </tr>\n",
       "  </thead>\n",
       "  <tbody>\n",
       "    <tr>\n",
       "      <th>0</th>\n",
       "      <td>2016-01-31</td>\n",
       "      <td>80539.000000</td>\n",
       "    </tr>\n",
       "    <tr>\n",
       "      <th>1</th>\n",
       "      <td>2016-01-10</td>\n",
       "      <td>82083.428571</td>\n",
       "    </tr>\n",
       "    <tr>\n",
       "      <th>2</th>\n",
       "      <td>2016-02-25</td>\n",
       "      <td>91758.857143</td>\n",
       "    </tr>\n",
       "    <tr>\n",
       "      <th>3</th>\n",
       "      <td>2016-02-28</td>\n",
       "      <td>92816.428571</td>\n",
       "    </tr>\n",
       "    <tr>\n",
       "      <th>4</th>\n",
       "      <td>2016-01-18</td>\n",
       "      <td>85136.000000</td>\n",
       "    </tr>\n",
       "  </tbody>\n",
       "</table>\n",
       "</div>"
      ],
      "text/plain": [
       "    trip_date  avg_num_trips\n",
       "0  2016-01-31   80539.000000\n",
       "1  2016-01-10   82083.428571\n",
       "2  2016-02-25   91758.857143\n",
       "3  2016-02-28   92816.428571\n",
       "4  2016-01-18   85136.000000"
      ]
     },
     "metadata": {},
     "output_type": "display_data"
    },
    {
     "data": {
      "application/javascript": [
       "parent.postMessage({\"jupyterEvent\": \"custom.exercise_interaction\", \"data\": {\"outcomeType\": 1, \"valueTowardsCompletion\": 0.3333333333333333, \"interactionType\": 1, \"questionType\": 2, \"questionId\": \"1_TaxiDemand\", \"learnToolsVersion\": \"0.3.4\", \"failureMessage\": \"\", \"exceptionClass\": \"\", \"trace\": \"\"}}, \"*\")"
      ],
      "text/plain": [
       "<IPython.core.display.Javascript object>"
      ]
     },
     "metadata": {},
     "output_type": "display_data"
    },
    {
     "data": {
      "text/markdown": [
       "<span style=\"color:#33cc33\">Correct</span>"
      ],
      "text/plain": [
       "Correct"
      ]
     },
     "metadata": {},
     "output_type": "display_data"
    }
   ],
   "source": [
    "# Fill in the blank below\n",
    "avg_num_trips_query = \"\"\"\n",
    "                      WITH trips_by_day AS\n",
    "                      (\n",
    "                      SELECT DATE(trip_start_timestamp) AS trip_date,\n",
    "                          COUNT(*) as num_trips\n",
    "                      FROM `bigquery-public-data.chicago_taxi_trips.taxi_trips`\n",
    "                      WHERE trip_start_timestamp > '2016-01-01' AND trip_start_timestamp < '2016-04-01'\n",
    "                      GROUP BY trip_date\n",
    "                      ORDER BY trip_date\n",
    "                      )\n",
    "                      SELECT trip_date,\n",
    "                          AVG(num_trips)\n",
    "                          OVER (\n",
    "                               ORDER BY trip_date\n",
    "                               ROWS BETWEEN 3 PRECEDING AND 3 FOLLOWING\n",
    "                               ) AS avg_num_trips\n",
    "                      FROM trips_by_day\n",
    "                      \"\"\"\n",
    "\n",
    "# Check your answer\n",
    "q_1.check()"
   ]
  },
  {
   "cell_type": "code",
   "execution_count": 4,
   "id": "91ba3747",
   "metadata": {
    "execution": {
     "iopub.execute_input": "2023-04-20T00:25:19.483841Z",
     "iopub.status.busy": "2023-04-20T00:25:19.483414Z",
     "iopub.status.idle": "2023-04-20T00:25:19.487807Z",
     "shell.execute_reply": "2023-04-20T00:25:19.486822Z"
    },
    "papermill": {
     "duration": 0.013866,
     "end_time": "2023-04-20T00:25:19.490008",
     "exception": false,
     "start_time": "2023-04-20T00:25:19.476142",
     "status": "completed"
    },
    "tags": []
   },
   "outputs": [],
   "source": [
    "# Lines below will give you a hint or solution code\n",
    "#q_1.hint()\n",
    "#q_1.solution()"
   ]
  },
  {
   "cell_type": "markdown",
   "id": "9de39809",
   "metadata": {
    "papermill": {
     "duration": 0.005988,
     "end_time": "2023-04-20T00:25:19.502250",
     "exception": false,
     "start_time": "2023-04-20T00:25:19.496262",
     "status": "completed"
    },
    "tags": []
   },
   "source": [
    "### 2) Can you separate and order trips by community area?\n",
    "\n",
    "The query below returns a DataFrame with three columns from the table: `pickup_community_area`, `trip_start_timestamp`, and `trip_end_timestamp`.  \n",
    "\n",
    "Amend the query to return an additional column called `trip_number` which shows the order in which the trips were taken from their respective community areas.  So, the first trip of the day originating from community area 1 should receive a value of 1; the second trip of the day from the same area should receive a value of 2.  Likewise, the first trip of the day from community area 2 should receive a value of 1, and so on.\n",
    "\n",
    "Note that there are many numbering functions that can be used to solve this problem (depending on how you want to deal with trips that started at the same time from the same community area); to answer this question, please use the **RANK()** function."
   ]
  },
  {
   "cell_type": "code",
   "execution_count": 5,
   "id": "81eb0e59",
   "metadata": {
    "execution": {
     "iopub.execute_input": "2023-04-20T00:25:19.516478Z",
     "iopub.status.busy": "2023-04-20T00:25:19.515872Z",
     "iopub.status.idle": "2023-04-20T00:25:25.090741Z",
     "shell.execute_reply": "2023-04-20T00:25:25.089355Z"
    },
    "papermill": {
     "duration": 5.585017,
     "end_time": "2023-04-20T00:25:25.093296",
     "exception": false,
     "start_time": "2023-04-20T00:25:19.508279",
     "status": "completed"
    },
    "tags": []
   },
   "outputs": [
    {
     "name": "stderr",
     "output_type": "stream",
     "text": [
      "/opt/conda/lib/python3.7/site-packages/google/cloud/bigquery/client.py:440: UserWarning: Cannot create BigQuery Storage client, the dependency google-cloud-bigquery-storage is not installed.\n",
      "  \"Cannot create BigQuery Storage client, the dependency \"\n"
     ]
    },
    {
     "data": {
      "text/html": [
       "<div>\n",
       "<style scoped>\n",
       "    .dataframe tbody tr th:only-of-type {\n",
       "        vertical-align: middle;\n",
       "    }\n",
       "\n",
       "    .dataframe tbody tr th {\n",
       "        vertical-align: top;\n",
       "    }\n",
       "\n",
       "    .dataframe thead th {\n",
       "        text-align: right;\n",
       "    }\n",
       "</style>\n",
       "<table border=\"1\" class=\"dataframe\">\n",
       "  <thead>\n",
       "    <tr style=\"text-align: right;\">\n",
       "      <th></th>\n",
       "      <th>pickup_community_area</th>\n",
       "      <th>trip_start_timestamp</th>\n",
       "      <th>trip_end_timestamp</th>\n",
       "    </tr>\n",
       "  </thead>\n",
       "  <tbody>\n",
       "    <tr>\n",
       "      <th>0</th>\n",
       "      <td>NaN</td>\n",
       "      <td>2013-10-03 06:15:00+00:00</td>\n",
       "      <td>2013-10-03 06:30:00+00:00</td>\n",
       "    </tr>\n",
       "    <tr>\n",
       "      <th>1</th>\n",
       "      <td>NaN</td>\n",
       "      <td>2013-10-03 00:45:00+00:00</td>\n",
       "      <td>2013-10-03 01:15:00+00:00</td>\n",
       "    </tr>\n",
       "    <tr>\n",
       "      <th>2</th>\n",
       "      <td>NaN</td>\n",
       "      <td>2013-10-03 03:15:00+00:00</td>\n",
       "      <td>2013-10-03 03:15:00+00:00</td>\n",
       "    </tr>\n",
       "    <tr>\n",
       "      <th>3</th>\n",
       "      <td>NaN</td>\n",
       "      <td>2013-10-03 04:00:00+00:00</td>\n",
       "      <td>2013-10-03 04:00:00+00:00</td>\n",
       "    </tr>\n",
       "    <tr>\n",
       "      <th>4</th>\n",
       "      <td>NaN</td>\n",
       "      <td>2013-10-03 05:00:00+00:00</td>\n",
       "      <td>2013-10-03 05:15:00+00:00</td>\n",
       "    </tr>\n",
       "  </tbody>\n",
       "</table>\n",
       "</div>"
      ],
      "text/plain": [
       "   pickup_community_area      trip_start_timestamp        trip_end_timestamp\n",
       "0                    NaN 2013-10-03 06:15:00+00:00 2013-10-03 06:30:00+00:00\n",
       "1                    NaN 2013-10-03 00:45:00+00:00 2013-10-03 01:15:00+00:00\n",
       "2                    NaN 2013-10-03 03:15:00+00:00 2013-10-03 03:15:00+00:00\n",
       "3                    NaN 2013-10-03 04:00:00+00:00 2013-10-03 04:00:00+00:00\n",
       "4                    NaN 2013-10-03 05:00:00+00:00 2013-10-03 05:15:00+00:00"
      ]
     },
     "metadata": {},
     "output_type": "display_data"
    },
    {
     "data": {
      "application/javascript": [
       "parent.postMessage({\"jupyterEvent\": \"custom.exercise_interaction\", \"data\": {\"outcomeType\": 2, \"failureMessage\": \"There are many different numbering functions that enumerate the rows in the input. For this exercise, please use the **RANK()** function.\", \"interactionType\": 1, \"questionType\": 2, \"questionId\": \"2_CommunityArea\", \"learnToolsVersion\": \"0.3.4\", \"valueTowardsCompletion\": 0.0, \"exceptionClass\": \"\", \"trace\": \"\"}}, \"*\")"
      ],
      "text/plain": [
       "<IPython.core.display.Javascript object>"
      ]
     },
     "metadata": {},
     "output_type": "display_data"
    },
    {
     "data": {
      "text/markdown": [
       "<span style=\"color:#cc3333\">Incorrect:</span> There are many different numbering functions that enumerate the rows in the input. For this exercise, please use the **RANK()** function."
      ],
      "text/plain": [
       "Incorrect: There are many different numbering functions that enumerate the rows in the input. For this exercise, please use the **RANK()** function."
      ]
     },
     "metadata": {},
     "output_type": "display_data"
    }
   ],
   "source": [
    "# Amend the query below\n",
    "trip_number_query = \"\"\"\n",
    "                    SELECT pickup_community_area,\n",
    "                        trip_start_timestamp,\n",
    "                        trip_end_timestamp\n",
    "                    FROM `bigquery-public-data.chicago_taxi_trips.taxi_trips`\n",
    "                    WHERE DATE(trip_start_timestamp) = '2013-10-03'\n",
    "                    \"\"\"\n",
    "\n",
    "# Check your answer\n",
    "q_2.check()"
   ]
  },
  {
   "cell_type": "code",
   "execution_count": 6,
   "id": "36daa161",
   "metadata": {
    "execution": {
     "iopub.execute_input": "2023-04-20T00:25:25.108878Z",
     "iopub.status.busy": "2023-04-20T00:25:25.108419Z",
     "iopub.status.idle": "2023-04-20T00:25:25.113168Z",
     "shell.execute_reply": "2023-04-20T00:25:25.112042Z"
    },
    "papermill": {
     "duration": 0.015178,
     "end_time": "2023-04-20T00:25:25.115407",
     "exception": false,
     "start_time": "2023-04-20T00:25:25.100229",
     "status": "completed"
    },
    "tags": []
   },
   "outputs": [],
   "source": [
    "# Lines below will give you a hint or solution code\n",
    "#q_2.hint()\n",
    "#q_2.solution()"
   ]
  },
  {
   "cell_type": "markdown",
   "id": "1c79bfc0",
   "metadata": {
    "papermill": {
     "duration": 0.006148,
     "end_time": "2023-04-20T00:25:25.128231",
     "exception": false,
     "start_time": "2023-04-20T00:25:25.122083",
     "status": "completed"
    },
    "tags": []
   },
   "source": [
    "### 3) How much time elapses between trips?\n",
    "\n",
    "The (partial) query in the code cell below shows, for each trip in the selected time frame, the corresponding `taxi_id`, `trip_start_timestamp`, and `trip_end_timestamp`. \n",
    "\n",
    "Your task in this exercise is to edit the query to include an additional `prev_break` column that shows the length of the break (in minutes) that the driver had before each trip started (this corresponds to the time between `trip_start_timestamp` of the current trip and `trip_end_timestamp` of the previous trip).  Partition the calculation by `taxi_id`, and order the results within each partition by `trip_start_timestamp`.\n",
    "\n",
    "Some sample results are shown below, where all rows correspond to the same driver (or `taxi_id`).  Take the time now to make sure that the values in the `prev_break` column make sense to you!\n",
    "\n",
    "![first_commands](https://i.imgur.com/zzHgmlx.png)\n",
    "\n",
    "Note that the first trip of the day for each driver should have a value of **NaN** (not a number) in the `prev_break` column."
   ]
  },
  {
   "cell_type": "code",
   "execution_count": 7,
   "id": "b9f78123",
   "metadata": {
    "execution": {
     "iopub.execute_input": "2023-04-20T00:25:25.143464Z",
     "iopub.status.busy": "2023-04-20T00:25:25.142827Z",
     "iopub.status.idle": "2023-04-20T00:25:25.601788Z",
     "shell.execute_reply": "2023-04-20T00:25:25.600595Z"
    },
    "papermill": {
     "duration": 0.469752,
     "end_time": "2023-04-20T00:25:25.604458",
     "exception": false,
     "start_time": "2023-04-20T00:25:25.134706",
     "status": "completed"
    },
    "tags": []
   },
   "outputs": [
    {
     "data": {
      "application/javascript": [
       "parent.postMessage({\"jupyterEvent\": \"custom.exercise_interaction\", \"data\": {\"outcomeType\": 2, \"failureMessage\": \"You don't have a valid query yet.  Try again.\", \"interactionType\": 1, \"questionType\": 2, \"questionId\": \"3_BreakTime\", \"learnToolsVersion\": \"0.3.4\", \"valueTowardsCompletion\": 0.0, \"exceptionClass\": \"\", \"trace\": \"\"}}, \"*\")"
      ],
      "text/plain": [
       "<IPython.core.display.Javascript object>"
      ]
     },
     "metadata": {},
     "output_type": "display_data"
    },
    {
     "data": {
      "text/markdown": [
       "<span style=\"color:#cc3333\">Incorrect:</span> You don't have a valid query yet.  Try again."
      ],
      "text/plain": [
       "Incorrect: You don't have a valid query yet.  Try again."
      ]
     },
     "metadata": {},
     "output_type": "display_data"
    }
   ],
   "source": [
    "# Fill in the blanks below\n",
    "break_time_query = \"\"\"\n",
    "                   SELECT taxi_id,\n",
    "                       trip_start_timestamp,\n",
    "                       trip_end_timestamp,\n",
    "                       TIMESTAMP_DIFF(\n",
    "                           trip_start_timestamp, \n",
    "                           ____ \n",
    "                               OVER (\n",
    "                                    PARTITION BY ____ \n",
    "                                    ORDER BY ____), \n",
    "                           MINUTE) as prev_break\n",
    "                   FROM `bigquery-public-data.chicago_taxi_trips.taxi_trips`\n",
    "                   WHERE DATE(trip_start_timestamp) = '2013-10-03' \n",
    "                   \"\"\"\n",
    "\n",
    "# Check your answer\n",
    "q_3.check()"
   ]
  },
  {
   "cell_type": "code",
   "execution_count": 8,
   "id": "423e2ad9",
   "metadata": {
    "execution": {
     "iopub.execute_input": "2023-04-20T00:25:25.621757Z",
     "iopub.status.busy": "2023-04-20T00:25:25.620579Z",
     "iopub.status.idle": "2023-04-20T00:25:25.625843Z",
     "shell.execute_reply": "2023-04-20T00:25:25.624942Z"
    },
    "papermill": {
     "duration": 0.016705,
     "end_time": "2023-04-20T00:25:25.628238",
     "exception": false,
     "start_time": "2023-04-20T00:25:25.611533",
     "status": "completed"
    },
    "tags": []
   },
   "outputs": [],
   "source": [
    "# Lines below will give you a hint or solution code\n",
    "#q_3.hint()\n",
    "#q_3.solution()"
   ]
  },
  {
   "cell_type": "markdown",
   "id": "cefff22a",
   "metadata": {
    "papermill": {
     "duration": 0.006456,
     "end_time": "2023-04-20T00:25:25.641563",
     "exception": false,
     "start_time": "2023-04-20T00:25:25.635107",
     "status": "completed"
    },
    "tags": []
   },
   "source": [
    "# Keep going\n",
    "\n",
    "Move on to learn how to query **[nested and repeated data](https://www.kaggle.com/alexisbcook/nested-and-repeated-data)**."
   ]
  },
  {
   "cell_type": "markdown",
   "id": "4897e2bd",
   "metadata": {
    "papermill": {
     "duration": 0.006705,
     "end_time": "2023-04-20T00:25:25.655085",
     "exception": false,
     "start_time": "2023-04-20T00:25:25.648380",
     "status": "completed"
    },
    "tags": []
   },
   "source": [
    "---\n",
    "\n",
    "\n",
    "\n",
    "\n",
    "*Have questions or comments? Visit the [course discussion forum](https://www.kaggle.com/learn/advanced-sql/discussion) to chat with other learners.*"
   ]
  }
 ],
 "metadata": {
  "kernelspec": {
   "display_name": "Python 3",
   "language": "python",
   "name": "python3"
  },
  "language_info": {
   "codemirror_mode": {
    "name": "ipython",
    "version": 3
   },
   "file_extension": ".py",
   "mimetype": "text/x-python",
   "name": "python",
   "nbconvert_exporter": "python",
   "pygments_lexer": "ipython3",
   "version": "3.7.12"
  },
  "papermill": {
   "default_parameters": {},
   "duration": 59.619707,
   "end_time": "2023-04-20T00:25:26.389303",
   "environment_variables": {},
   "exception": null,
   "input_path": "__notebook__.ipynb",
   "output_path": "__notebook__.ipynb",
   "parameters": {},
   "start_time": "2023-04-20T00:24:26.769596",
   "version": "2.4.0"
  }
 },
 "nbformat": 4,
 "nbformat_minor": 5
}
